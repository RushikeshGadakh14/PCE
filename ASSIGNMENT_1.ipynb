{
  "nbformat": 4,
  "nbformat_minor": 0,
  "metadata": {
    "colab": {
      "provenance": []
    },
    "kernelspec": {
      "name": "python3",
      "display_name": "Python 3"
    },
    "language_info": {
      "name": "python"
    }
  },
  "cells": [
    {
      "cell_type": "code",
      "execution_count": 1,
      "metadata": {
        "colab": {
          "base_uri": "https://localhost:8080/"
        },
        "id": "LKs4CyAxii-F",
        "outputId": "9c628a18-5740-44b8-db29-279ff9462dbe"
      },
      "outputs": [
        {
          "output_type": "stream",
          "name": "stdout",
          "text": [
            "Enter the value of Discharge:4.8\n",
            "Enter the value of top width:2\n",
            "Enter the value of acceleration due to Gravity:9.81\n",
            "enter the value of upstream depth:1.6\n",
            "Enter the Value of hump: 0.1\n",
            "The value of discharge per meter width is: 2.4\n",
            "The value of upstream area is: 3.2\n",
            "The value of Froude number is: 0.07167431192660548\n",
            "The flow is Sub Critical Flow\n",
            "The value of Energy at initial Section is: 1.714678899082569\n",
            "The value of downstream Energy E2 is: 1.614678899082569\n",
            "The Value of critical depth is: 0.8373856872261649\n",
            "The value of critical Energy is 1.2560785308392473\n",
            "SAFE\n",
            "The value of maxinmum hump is: 0.45860036824332173\n"
          ]
        }
      ],
      "source": [
        "#Rushikesh Gadakh\n",
        "#Roll No. 22CV021\n",
        "#Q1\n",
        "#To find the downstream depth of open channel\n",
        "# Given Data\n",
        "Q= float(input(\"Enter the value of Discharge:\"))\n",
        "T= int(input(\"Enter the value of top width:\"))\n",
        "g= float(input(\"Enter the value of acceleration due to Gravity:\"))\n",
        "y1 = float(input(\"enter the value of upstream depth:\"))\n",
        "Z= float(input(\"Enter the Value of hump: \"))\n",
        "# Dicharge per meter width\n",
        "q=Q/T\n",
        "print (\"The value of discharge per meter width is:\", q)\n",
        "# Area Calculation\n",
        "A1= T*y1\n",
        "print (\"The value of upstream area is:\", A1)\n",
        "# Calculation of Froude Number\n",
        "Fr1 = ((Q*Q*T)/(g*A1* A1 *A1)) *0.5\n",
        "print (\"The value of Froude number is:\", Fr1)\n",
        "if Fr1>1:\n",
        "  print(\"The flow is Super Critical Flow\")\n",
        "else:\n",
        "  print(\"The flow is Sub Critical Flow\")\n",
        "#Upstream Energy\n",
        "E1 = y1 + ((Q*Q)/(2 *g*A1 *A1))\n",
        "print(\"The value of Energy at initial Section is:\", E1)\n",
        "# Downstream Energy\n",
        "E2 = E1 -Z\n",
        "print(\"The value of downstream Energy E2 is:\", E2)\n",
        "# Critical Depth\n",
        "yc = (q*q/g)**0.3333\n",
        "print (\"The Value of critical depth is:\", yc)\n",
        "Ec = 1.5*yc\n",
        "print(\"The value of critical Energy is\", Ec)\n",
        "if Ec>E2:\n",
        "        print(\"Chocking Conditlon\")\n",
        "else:\n",
        "        print(\"SAFE\")\n",
        "# Calculation of Zmax\n",
        "Zmax = E1 - Ec\n",
        "print(\"The value of maximum hump is:\", Zmax)"
      ]
    },
    {
      "cell_type": "code",
      "source": [
        "#Q2\n",
        "# To find the downstream depth of open channel\n",
        "# Given Data\n",
        "Q= float(input(\"Enter the value of Discharge:\"))\n",
        "B1 = float(input(\"Enter the value of width at upstream: \"))\n",
        "B2 = float(input(\"Enter the value of width at downstream: \"))\n",
        "g= float(input(\"Enter the value of acceleration due to Gravity:\"))\n",
        "yl= float(input(\"enter the value of upstream depth:\"))\n",
        "# Dicharge per meter width\n",
        "ql= Q/B1\n",
        "q2= Q/B2\n",
        "print(\"The value of discharge per meter width is:'\", ql)\n",
        "print(\"The value of discharge per meter width is:\", q2)\n",
        "# Area Calculation\n",
        "A1 = B1*yl\n",
        "print (\"The value of upstream area is:\", A1)\n",
        "# Calculation of Froude Number\n",
        "Fr1 = ((Q*Q*B1)/(g*A1*A1*A1)) **0.5\n",
        "print(\"The value of Froude number is:\", Fr1)\n",
        "if Fr1>1:\n",
        "  print(\"The flow is Super Critical Flow\")\n",
        "else:\n",
        "  print(\"The flow is Sub Critical Flow\")\n",
        "# Upstream Energy\n",
        "E1 = yl + ((Q*Q)/(2*g*A1*A1))\n",
        "print(\"The value of Energy at initial Section is:\", E1)\n",
        "\n",
        "B2min = ((27*Q*Q)/(8*g*E1*E1*E1)) **0.5\n",
        "print(\"The value of minimum width to be kept to avoid Chocking is:\", B2min)\n",
        "if B2min > B2:\n",
        "  print(\"Chocking Condition\")\n",
        "else:\n",
        "  print(\"SAFE\")\n",
        "# Critical Depth\n",
        "yc = ((Q*Q)/(B2*B2*g)) **0.3333\n",
        "print (\"The Value of critical depth is: \", yc)\n",
        "Ec = 1.5*yc\n",
        "print(\"The value of critical Energy is\", Ec)"
      ],
      "metadata": {
        "colab": {
          "base_uri": "https://localhost:8080/"
        },
        "id": "3QSJD7ask4vJ",
        "outputId": "5fd91672-e435-432f-ccbe-208cdf5b0aad"
      },
      "execution_count": 2,
      "outputs": [
        {
          "output_type": "stream",
          "name": "stdout",
          "text": [
            "Enter the value of Discharge:15\n",
            "Enter the value of width at upstream: 3.5\n",
            "Enter the value of width at downstream: 2.5\n",
            "Enter the value of acceleration due to Gravity:9.81\n",
            "enter the value of upstream depth:2\n",
            "The value of discharge per meter width is:' 4.285714285714286\n",
            "The value of discharge per meter width is: 6.0\n",
            "The value of upstream area is: 7.0\n",
            "The value of Froude number is: 0.4837753296275688\n",
            "The flow is Sub Critical Flow\n",
            "The value of Energy at initial Section is: 2.234038569556263\n",
            "The value of minimum width to be kept to avoid Chocking is: 2.634860603070728\n",
            "Chocking Condition\n",
            "The Value of critical depth is:  1.542383403140325\n",
            "The value of critical Energy is 2.3135751047104876\n"
          ]
        }
      ]
    },
    {
      "cell_type": "code",
      "source": [
        "#Q3\n",
        "#Design of Efficient Channel Section\n",
        "Q= float(input(\"Enter the value of Discharge:\"))\n",
        "n=float(input(\"Enter the value of Rugosity coefficient:\"))\n",
        "So= float (input(\"Enter the value of bed slope:\"))\n",
        "g= float(input(\"Enter the value of acceleration due to Gravity:\"))\n",
        " #Manning's Formula\n",
        " #Q = (AR^2/3 S^1/2)/n\n",
        "yn=(Q*n*50* 1.591)/(1.732) **(3/8)\n",
        "print (\"The Value of yn is\", yn)\n",
        " #To encounter the effect of free board\n",
        "yn1= 1.1*yn\n",
        "print (\"The Value of ynl is\", yn1)\n",
        " # Cross Sectional Area\n",
        "A = 1.732 * yn * yn1\n",
        "print (\"The cross sectional Area is:\", A)\n",
        " # Top Width\n",
        "T= 4* yn/1.732\n",
        "print (\"The value of top Width is:\", T)\n",
        " # Bottom Width\n",
        "B= 2 * yn/1.732\n",
        "print (\"The value of Bottom Width is'\", B)\n",
        "Fr= ((Q*Q*T)/(g*A*A*A)) * 0.5\n",
        "print (\"The value of Froude number is:\", Fr)\n",
        "if Fr>1:\n",
        "  print(\"The flow is Super Critical Flow\")\n",
        "else:\n",
        "  print(\"The flow is Sub Critical Flow\")"
      ],
      "metadata": {
        "colab": {
          "base_uri": "https://localhost:8080/"
        },
        "id": "153ZgSmclqds",
        "outputId": "23f8e32f-f3e5-4cad-90cc-f35d05509dcc"
      },
      "execution_count": 4,
      "outputs": [
        {
          "output_type": "stream",
          "name": "stdout",
          "text": [
            "Enter the value of Discharge:100\n",
            "Enter the value of Rugosity coefficient:0.015\n",
            "Enter the value of bed slope:0.0004\n",
            "Enter the value of acceleration due to Gravity:9.81\n",
            "The Value of yn is 97.11269022539724\n",
            "The Value of ynl is 106.82395924793698\n",
            "The cross sectional Area is: 17967.70229328117\n",
            "The value of top Width is: 224.27873031269573\n",
            "The value of Bottom Width is' 112.13936515634786\n",
            "The value of Froude number is: 1.9706588875002574e-08\n",
            "The flow is Sub Critical Flow\n"
          ]
        }
      ]
    }
  ]
}