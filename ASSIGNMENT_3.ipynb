{
  "nbformat": 4,
  "nbformat_minor": 0,
  "metadata": {
    "colab": {
      "provenance": []
    },
    "kernelspec": {
      "name": "python3",
      "display_name": "Python 3"
    },
    "language_info": {
      "name": "python"
    }
  },
  "cells": [
    {
      "cell_type": "code",
      "execution_count": 1,
      "metadata": {
        "colab": {
          "base_uri": "https://localhost:8080/"
        },
        "id": "r1QAIlg0rO3I",
        "outputId": "6b6a1eaf-5af8-4370-bddd-6c1a0fb2b76b"
      },
      "outputs": [
        {
          "output_type": "stream",
          "name": "stdout",
          "text": [
            "Enter the value of design speed: 60\n",
            "Enter the value of Radius of curvature: 200\n",
            "Enter the value of slope: 140\n",
            "Enter the value of width of road including extra widening: 7\n",
            "'enter the value for plain terain:0.08\n",
            "The value of Super elevation: 0.08\n",
            "0.08\n",
            "The length of transition curve: 39.2\n"
          ]
        }
      ],
      "source": [
        "#Rushikesh Gadakh 22CV021\n",
        "#To Calculate the length of transition curve\n",
        "V= int(input(\"Enter the value of design speed: \"))\n",
        "R= int(input(\"Enter the value of Radius of curvature: \"))\n",
        "N= int(input(\"Enter the value of slope: \"))\n",
        "W= float(input(\"Enter the value of width of road including extra widening: \"))\n",
        "emax=float(input(\"'enter the value for plain terain:\"))\n",
        "ecal= (V*V/(225*R))\n",
        "print(\"The value of Super elevation:\",ecal)\n",
        "if ecal<emax:\n",
        "  print(ecal)\n",
        "else:\n",
        "  print(emax)\n",
        "Ls=(emax*N*W/2)\n",
        "print(\"The length of transition curve:\", Ls)"
      ]
    },
    {
      "cell_type": "code",
      "source": [],
      "metadata": {
        "id": "kx7HeT0Sr9dD"
      },
      "execution_count": null,
      "outputs": []
    }
  ]
}