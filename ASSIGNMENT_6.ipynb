{
  "nbformat": 4,
  "nbformat_minor": 0,
  "metadata": {
    "colab": {
      "provenance": [],
      "authorship_tag": "ABX9TyNHQSUwPXN3I/VIFV7IPbT9",
      "include_colab_link": true
    },
    "kernelspec": {
      "name": "python3",
      "display_name": "Python 3"
    },
    "language_info": {
      "name": "python"
    }
  },
  "cells": [
    {
      "cell_type": "markdown",
      "metadata": {
        "id": "view-in-github",
        "colab_type": "text"
      },
      "source": [
        "<a href=\"https://colab.research.google.com/github/RushikeshGadakh14/PCE/blob/main/ASSIGNMENT_6.ipynb\" target=\"_parent\"><img src=\"https://colab.research.google.com/assets/colab-badge.svg\" alt=\"Open In Colab\"/></a>"
      ]
    },
    {
      "cell_type": "code",
      "execution_count": 1,
      "metadata": {
        "colab": {
          "base_uri": "https://localhost:8080/"
        },
        "id": "1HskxggZXghE",
        "outputId": "a895b145-0ce8-40d7-abbc-a4069cfd3b66"
      },
      "outputs": [
        {
          "output_type": "stream",
          "name": "stdout",
          "text": [
            "Enter the value of Load in kN: 2500\n",
            "Number of data values of radial distance: 5\n",
            "Depth: 6\n",
            "Enter radial distance in m\n",
            "1\n",
            "Stress:  30.962130445358056 kN/m^2\n",
            "Enter radial distance in m\n",
            "2\n",
            "Stress:  25.479163627894877 kN/m^2\n",
            "Enter radial distance in m\n",
            "3\n",
            "Stress:  18.98033449112347 kN/m^2\n",
            "Enter radial distance in m\n",
            "4\n",
            "Stress:  13.22290223969301 kN/m^2\n",
            "Enter radial distance in m\n",
            "5\n",
            "Stress:  8.871775810212231 kN/m^2\n"
          ]
        }
      ],
      "source": [
        "\n",
        "#Rushikesh Gadakh 22CV021\n",
        "# Stress When depth is constant\n",
        "Q = float (input (\"Enter the value of Load in kN: \"))\n",
        "N= int (input (\"Number of data values of radial distance: \"))\n",
        "pi = 3.14159265359\n",
        "Z = float (input (\"Depth: \"))\n",
        "r = []\n",
        "for i in range (0, N):\n",
        "  print (\"Enter radial distance in m\".format (i+1))\n",
        "  Value_r = float(input () )\n",
        "  r.append (Value_r)\n",
        "  Stress = ((3*Q)/(2*pi*Z*Z) ) * (((1/ (1+((Value_r/Z) **2))) ) **2.5)\n",
        "  print(\"Stress: \", Stress, \"kN/m^2\")\n",
        "\n"
      ]
    },
    {
      "cell_type": "code",
      "source": [
        "#Rushikesh Gadakh 22CV021\n",
        "# Stress when Radius is Constant\n",
        "Q = float (input(\"Enter the value of Load in kN: \"))\n",
        "M= int (input (\"Number of data values of depth: \"))\n",
        "pi = 3.14159265359\n",
        "r = float (input(\"Radial Distance: \"))\n",
        "Z = []\n",
        "for j in range (1, M+1):\n",
        "  print(\"Enter depth in z\".format (j))\n",
        "  Value_Z = float(input ())\n",
        "  Z. append (Value_Z)\n",
        "  Stress = ((3*Q)/(2*pi*Value_Z* Value_Z)) * ((1/ (1+ ( (r/Value_Z) **2))) )**2.5\n",
        "  print(\"Stress: \", Stress, \"kN/m^2\")\n"
      ],
      "metadata": {
        "colab": {
          "base_uri": "https://localhost:8080/"
        },
        "id": "cESUa2sQYUdj",
        "outputId": "b5b4045e-7c83-4309-c2cd-0b246676cf86"
      },
      "execution_count": 2,
      "outputs": [
        {
          "output_type": "stream",
          "name": "stdout",
          "text": [
            "Enter the value of Load in kN: 2500\n",
            "Number of data values of depth: 6\n",
            "Radial Distance: 5\n",
            "Enter depth in z\n",
            "1\n",
            "Stress:  0.34629643854273023 kN/m^2\n",
            "Enter depth in z\n",
            "2\n",
            "Stress:  2.1085135063018074 kN/m^2\n",
            "Enter depth in z\n",
            "3\n",
            "Stress:  4.781320614736756 kN/m^2\n",
            "Enter depth in z\n",
            "4\n",
            "Stress:  7.0974399578803125 kN/m^2\n",
            "Enter depth in z\n",
            "5\n",
            "Stress:  8.440465463972316 kN/m^2\n",
            "Enter depth in z\n",
            "6\n",
            "Stress:  8.871775810212231 kN/m^2\n"
          ]
        }
      ]
    }
  ]
}