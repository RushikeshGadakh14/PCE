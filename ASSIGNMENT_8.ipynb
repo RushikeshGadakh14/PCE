{
  "nbformat": 4,
  "nbformat_minor": 0,
  "metadata": {
    "colab": {
      "provenance": [],
      "authorship_tag": "ABX9TyNnpK2NXBx4/zk1L2iWexoO",
      "include_colab_link": true
    },
    "kernelspec": {
      "name": "python3",
      "display_name": "Python 3"
    },
    "language_info": {
      "name": "python"
    }
  },
  "cells": [
    {
      "cell_type": "markdown",
      "metadata": {
        "id": "view-in-github",
        "colab_type": "text"
      },
      "source": [
        "<a href=\"https://colab.research.google.com/github/RushikeshGadakh14/PCE/blob/main/ASSIGNMENT_8.ipynb\" target=\"_parent\"><img src=\"https://colab.research.google.com/assets/colab-badge.svg\" alt=\"Open In Colab\"/></a>"
      ]
    },
    {
      "cell_type": "code",
      "execution_count": 1,
      "metadata": {
        "colab": {
          "base_uri": "https://localhost:8080/"
        },
        "id": "V1Moh0Vaj6RH",
        "outputId": "6b0b4c1a-2658-4003-d115-5032a4062b84"
      },
      "outputs": [
        {
          "output_type": "stream",
          "name": "stdout",
          "text": [
            "Enter the volume of H2S04 required in ml:30\n",
            "Enter the value of sample in litres:0.2\n",
            "Alkalinity Removed:  30.0 mg\n",
            "Total Alkalinity: 150.0 mg/lit\n",
            "Enter the value of OH-Alkalinity present : 30\n",
            "Enter the volume of H2S04 required in ml :11\n",
            "Alkalinity Removed:  11.0 mg\n",
            "Carbonate Alkalinity upto pH8.3: 55.0 mgperlit\n",
            "Carbonate Alkalinity: 25.0 mg/lit\n",
            "Bicarbonate Alkalinity: 70.0 mg/it\n"
          ]
        }
      ],
      "source": [
        "#RUSHIKESH GADAKH 22CV021\n",
        "# To determine alkalinity of given sample\n",
        "H2S04_req = float(input(\"Enter the volume of H2S04 required in ml:\"))\n",
        "Sample = float(input(\"Enter the value of sample in litres:\"))\n",
        "Alkalinity_Removed = H2S04_req  # Corrected variable assignment\n",
        "print(\"Alkalinity Removed: \", Alkalinity_Removed, \"mg\")\n",
        "Alk_mgperlit = Alkalinity_Removed / Sample\n",
        "print(\"Total Alkalinity:\", Alk_mgperlit, \"mg/lit\")\n",
        "OH = float(input(\"Enter the value of OH-Alkalinity present : \"))\n",
        "\n",
        "# Alkalinity removed till pH of 8.3\n",
        "H2S04_req_pH83 = float(input(\"Enter the volume of H2S04 required in ml :\"))  # Changed variable name to avoid conflict\n",
        "Alkalinity_Removed_pH83 = H2S04_req_pH83  # Changed variable name to avoid conflict\n",
        "print(\"Alkalinity Removed: \", Alkalinity_Removed_pH83, \"mg\")\n",
        "CO3_Combined = Alkalinity_Removed_pH83 / Sample  # Changed variable name to match above\n",
        "print(\"Carbonate Alkalinity upto pH8.3:\", CO3_Combined, \"mgperlit\")\n",
        "CO3 = CO3_Combined - OH\n",
        "print(\"Carbonate Alkalinity:\", CO3, \"mg/lit\")\n",
        "HCO3 = Alk_mgperlit - 2 * CO3 - OH\n",
        "print(\"Bicarbonate Alkalinity:\", HCO3, \"mg/it\")\n",
        "\n",
        "\n",
        "\n",
        "\n",
        "\n",
        "\n"
      ]
    }
  ]
}