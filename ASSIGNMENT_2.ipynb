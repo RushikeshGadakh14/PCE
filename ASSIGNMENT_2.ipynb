{
  "nbformat": 4,
  "nbformat_minor": 0,
  "metadata": {
    "colab": {
      "provenance": [],
      "authorship_tag": "ABX9TyNADyr2QjbTIk585o9Sbrbw",
      "include_colab_link": true
    },
    "kernelspec": {
      "name": "python3",
      "display_name": "Python 3"
    },
    "language_info": {
      "name": "python"
    }
  },
  "cells": [
    {
      "cell_type": "markdown",
      "metadata": {
        "id": "view-in-github",
        "colab_type": "text"
      },
      "source": [
        "<a href=\"https://colab.research.google.com/github/RushikeshGadakh14/PCE/blob/main/ASSIGNMENT_2.ipynb\" target=\"_parent\"><img src=\"https://colab.research.google.com/assets/colab-badge.svg\" alt=\"Open In Colab\"/></a>"
      ]
    },
    {
      "cell_type": "code",
      "execution_count": 1,
      "metadata": {
        "colab": {
          "base_uri": "https://localhost:8080/"
        },
        "id": "yEKO7NA9lLxu",
        "outputId": "509f419f-cb04-4c22-a131-b973474b9196"
      },
      "outputs": [
        {
          "output_type": "stream",
          "name": "stdout",
          "text": [
            "Enter the value of initial Infiltration Rate:7\n",
            "Enter the value of Final infiltration Rate:1.5\n",
            "Enter the value of Time:0.89\n",
            "Enter the value of Decay Coefficient:7\n",
            "The value of Total Infiltration is: 2.1207142857142856\n"
          ]
        }
      ],
      "source": [
        "#Rushikesh Gadakh 22CV021\n",
        "# Calculation of total Infiltration by Horton's Equation\n",
        "fo = float(input(\"Enter the value of initial Infiltration Rate:\"))\n",
        "fc= float(input(\"Enter the value of Final infiltration Rate:\"))\n",
        "t= float(input(\"Enter the value of Time:\"))\n",
        "kh= float(input(\"Enter the value of Decay Coefficient:\"))\n",
        "# The total Infiltration is given by:\n",
        "Fp= fc*t+(fo-fc)/kh\n",
        "print(\"The value of Total Infiltration is:\", Fp)"
      ]
    },
    {
      "cell_type": "code",
      "source": [
        "#Calculation of Mean precipitation by theissen's polygon Method\n",
        "#The value of precipitation at Each station is\n",
        "p1=float(input(\"Enter the value of rainfall at Station 1:\"))\n",
        "p2= float(input(\"Enter the value of rainfall at Station 2:\"))\n",
        "p3 =float(input(\"Enter the value of rainfall at Station 3:\"))\n",
        "p4 =float(input(\"Enter the value of rainfall at Station 4:\"))\n",
        "p5 =float(input(\"Enter the value of rainfall at Station 5:\"))\n",
        "#Area for each station\n",
        "A1= float(input(\"Enter the value of Catchment Area for raingauge station 1:\"))\n",
        "A2= float(input(\"Enter the value of Catchment Area for raingauge station 2:\"))\n",
        "A3 =float(input(\"Enter the value of Catchment Area for raingauge station 3:\"))\n",
        "A4=float(input(\"Enter the value of Catchment Area for raingauge station 4:\"))\n",
        "A5= float(input(\"Enter the value of Catchment Area for raingauge station 5:\"))\n",
        "#The total catchment area is\n",
        "A=A1 + A2 + A3 + A4+ A5\n",
        "print(\"The value of Total Catchment area is:\", A)\n",
        "# Runoff Volume\n",
        "#The volume shall be multiplied by the coefficient 2500 to cater scale effects\n",
        "#Runoff Volume\n",
        "V= (p1* A1+ p2* A2+ p3* A3+ p4 *A4+p5* A5)*2500\n",
        "print(\"The runoff volume from the given catchment is:\", V)\n",
        "#Mean Precipitation\n",
        "p=(p1* A1+ p2* A2 + p3* A3+ p4*A4+ p5* A5)/A\n",
        "print (\"The value of Mean Precipitalon is:\", p)"
      ],
      "metadata": {
        "colab": {
          "base_uri": "https://localhost:8080/"
        },
        "id": "XcX98UktmWeM",
        "outputId": "9c746914-67cb-4c32-b726-fb07e2d792cb"
      },
      "execution_count": 2,
      "outputs": [
        {
          "output_type": "stream",
          "name": "stdout",
          "text": [
            "Enter the value of rainfall at Station 1:130\n",
            "Enter the value of rainfall at Station 2:170\n",
            "Enter the value of rainfall at Station 3:200\n",
            "Enter the value of rainfall at Station 4:250\n",
            "Enter the value of rainfall at Station 5:325\n",
            "Enter the value of Catchment Area for raingauge station 1:20\n",
            "Enter the value of Catchment Area for raingauge station 2:35\n",
            "Enter the value of Catchment Area for raingauge station 3:25\n",
            "Enter the value of Catchment Area for raingauge station 4:10\n",
            "Enter the value of Catchment Area for raingauge station 5:5\n",
            "The value of Total Catchment area is: 95.0\n",
            "The runoff volume from the given catchment is: 44187500.0\n",
            "The value of Mean Precipitalon is: 186.05263157894737\n"
          ]
        }
      ]
    },
    {
      "cell_type": "code",
      "source": [
        "#Calculation of Mean precipitation by Isohytel Method\n",
        "#The value of precipitation at Each station i\n",
        "p1=int(input(\"Enter the value of rainfall at Station 1:\"))\n",
        "p2= int(input(\"Enter the value of rainfall at Station 2:\"))\n",
        "p3=int(input(\"Enter the value of rainfall at Station 3:\"))\n",
        "p4=int(input(\"Enter the value of rainfall at Station 4:\"))\n",
        "p5= int(input(\"Enter the value of rainfall at Station 5:\"))\n",
        "p6=int(input(\"Enter the value of rainfall at Station 6:\"))\n",
        "p7= int(input(\"Enter the value of rainfall at Station 7:\"))\n",
        "p8=int(input(\"Enter the value of rainfall at Station 8:\"))\n",
        "# Area for each station\n",
        "A1= int(input(\"Enter the value of Catchment Area for raingage station 1:\"))\n",
        "A2= int(input(\"Enter the value of Catchment Area for raingauge station 2:\"))\n",
        "A3= int(input(\"Enter the value of Catchment Area for raingauge station 3:\"))\n",
        "A4=int(input(\"Enter the value of Catchment Area for raingauge station 4:\"))\n",
        "A5= int(input(\"Enter the value of Catchment Area for raingauge station 5:\"))\n",
        "A6= int(input(\"Enter the value of Catchment Area for raingauge station 6:\"))\n",
        "A7= int(input(\"Enter the value of Catchment Area for raingauge station 7:\"))\n",
        "# The total catchment area is\n",
        "A= A1+ A2+ A3+ A4+ A5+ A6+ A7\n",
        "print(\"The value of Total Catchment area is :\", A)\n",
        "# Mean Precipitation\n",
        "p=((p1+p2) *A1/2 + (p2+p3)*A2/2+ (p3+p4)*A3/2+ (p4+p5)* A4/2 + (p5+p6)*A5/2 + (p6+p7)*A6/2 + (p7+p8)*A7/2)/A\n",
        "print(\"the value of Mean Precipitation is:\", p)\n"
      ],
      "metadata": {
        "colab": {
          "base_uri": "https://localhost:8080/"
        },
        "id": "YR8EPPXnoBLK",
        "outputId": "fefe3971-e7aa-453d-d8d5-d447579bbba4"
      },
      "execution_count": 4,
      "outputs": [
        {
          "output_type": "stream",
          "name": "stdout",
          "text": [
            "Enter the value of rainfall at Station 1:14\n",
            "Enter the value of rainfall at Station 2:10\n",
            "Enter the value of rainfall at Station 3:8\n",
            "Enter the value of rainfall at Station 4:6\n",
            "Enter the value of rainfall at Station 5:4\n",
            "Enter the value of rainfall at Station 6:2\n",
            "Enter the value of rainfall at Station 7:0\n",
            "Enter the value of rainfall at Station 8:90\n",
            "Enter the value of Catchment Area for raingage station 1:80\n",
            "Enter the value of Catchment Area for raingauge station 2:140\n",
            "Enter the value of Catchment Area for raingauge station 3:120\n",
            "Enter the value of Catchment Area for raingauge station 4:130\n",
            "Enter the value of Catchment Area for raingauge station 5:80\n",
            "Enter the value of Catchment Area for raingauge station 6:40\n",
            "Enter the value of Catchment Area for raingauge station 7:20\n",
            "The value of Total Catchment area is : 610\n",
            "the value of Mean Precipitation is: 8.01639344262295\n"
          ]
        }
      ]
    }
  ]
}